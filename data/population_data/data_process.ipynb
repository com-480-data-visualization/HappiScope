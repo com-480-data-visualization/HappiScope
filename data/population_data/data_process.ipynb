{
 "cells": [
  {
   "cell_type": "code",
   "execution_count": 1,
   "metadata": {},
   "outputs": [],
   "source": [
    "import pandas as pd\n",
    "\n",
    "xlsx_file = \"WPP2024_TotalPopulationBySex.xlsx\"\n",
    "csv_file = \"population.csv\"\n",
    "\n",
    "df = pd.read_excel(xlsx_file, dtype={\"ParentID\": \"Int64\"})\n",
    "df.to_csv(csv_file, index=False, encoding=\"utf-8\")"
   ]
  },
  {
   "cell_type": "code",
   "execution_count": 2,
   "metadata": {},
   "outputs": [],
   "source": [
    "# Load the data\n",
    "data = pd.read_csv(csv_file, low_memory=False)\n",
    "\n",
    "# Filter the data\n",
    "filtered_data = data[\n",
    "    (data[\"LocTypeName\"] == \"Country/Area\") & (data[\"Variant\"] == \"Medium\")\n",
    "]\n",
    "\n",
    "# Select specific columns\n",
    "result = filtered_data[\n",
    "    [\n",
    "        \"LocID\",\n",
    "        \"LocTypeName\",\n",
    "        \"ParentID\",\n",
    "        \"Location\",\n",
    "        \"Time\",\n",
    "        \"MidPeriod\",\n",
    "        \"PopMale\",\n",
    "        \"PopFemale\",\n",
    "        \"PopTotal\",\n",
    "        \"PopDensity\",\n",
    "    ]\n",
    "]\n",
    "\n",
    "# Save the filtered data to a new CSV file\n",
    "result.to_csv(\"filtered_population.csv\", index=False)"
   ]
  },
  {
   "cell_type": "code",
   "execution_count": 3,
   "metadata": {},
   "outputs": [],
   "source": [
    "# Filter data for the years 2015 to 2024\n",
    "filtered_years = result[(result[\"Time\"] >= 2015) & (result[\"Time\"] <= 2024)]\n",
    "\n",
    "# Iterate through each year and save data to separate files\n",
    "for year in range(2015, 2025):\n",
    "    yearly_data = filtered_years[filtered_years[\"Time\"] == year]\n",
    "    columns_to_save = [\n",
    "        \"LocID\",\n",
    "        \"LocTypeName\",\n",
    "        \"ParentID\",\n",
    "        \"Location\",\n",
    "        \"PopMale\",\n",
    "        \"PopFemale\",\n",
    "        \"PopTotal\",\n",
    "        \"PopDensity\",\n",
    "    ]\n",
    "    yearly_data[columns_to_save].to_csv(f\"population_{year}.csv\", index=False)"
   ]
  }
 ],
 "metadata": {
  "kernelspec": {
   "display_name": "happy",
   "language": "python",
   "name": "python3"
  },
  "language_info": {
   "codemirror_mode": {
    "name": "ipython",
    "version": 3
   },
   "file_extension": ".py",
   "mimetype": "text/x-python",
   "name": "python",
   "nbconvert_exporter": "python",
   "pygments_lexer": "ipython3",
   "version": "3.11.11"
  }
 },
 "nbformat": 4,
 "nbformat_minor": 2
}
